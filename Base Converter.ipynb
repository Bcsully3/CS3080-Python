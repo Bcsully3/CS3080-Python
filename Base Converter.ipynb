{
  "cells": [
    {
      "cell_type": "markdown",
      "metadata": {
        "id": "view-in-github",
        "colab_type": "text"
      },
      "source": [
        "<a href=\"https://colab.research.google.com/github/Bcsully3/CS3080-Python/blob/main/Base%20Converter.ipynb\" target=\"_parent\"><img src=\"https://colab.research.google.com/assets/colab-badge.svg\" alt=\"Open In Colab\"/></a>"
      ]
    },
    {
      "cell_type": "markdown",
      "metadata": {
        "id": "7CnQVxEsnw_R"
      },
      "source": [
        "# CS 2150 Computer Project 3: What's in a Base? That which we call thirteen by any other radix would still be as prime.\n",
        "\n",
        "**Goals:** Gain an appreciation for base conversions and various representations of integers.\n",
        "\n",
        "**Instructions:** Carefully read all of the text in the Markdown cells; these give you information about the assignment. **Numbered, heading-level text at the bottom of the document describes the project deliverables.** Cells requesting the implementation of a function also include `assert` statements. Use these statements as a guide to the expected output of your function; if the assertions fail, then the function is invalid.\n",
        "\n",
        "**Note: Include each deliverable directly underneath the markdown cell which asks for it.** \n",
        "\n",
        "**Note also: when we receive your notebook, the first thing we will do is clear its memory and run it from the beginning.** You are responsible for ensuring that when we do this, the entire notebook executes and computes the desired results. Notebooks which fail to execute will typically receive low grades.\n",
        "\n",
        "**Note this too: hard-coded answers, even if correct, will be awarded few if any points.** Your answers should be generated programmatically, not derived offline and then hard-coded.\n",
        "\n",
        "**Beware:** This project includes a markdown deliverable in which you are expected to write some equations in LaTex!"
      ]
    },
    {
      "cell_type": "markdown",
      "source": [
        "Class notes: value of x : dn * 10^n + dn-1 *10^(n-1) + ...... + d1 * 10^1 + d0 *10^0\n",
        "\n",
        "when given a character, search the base string for that char and find it's index"
      ],
      "metadata": {
        "id": "2BEccuou4Bdc"
      }
    },
    {
      "cell_type": "markdown",
      "metadata": {
        "id": "pVTmWfvPnw_T"
      },
      "source": [
        "## Introduction\n",
        "\n",
        "In the videos, Dr. Brown talked about decimal and binary representations of numbers. To recall, here are the definitions of both of those:\n",
        "\n",
        "> The decimal representation of a positive integer $X$ is a string of digits $d_nd_{n-1}\\dots d_2d_1d_0$, where each $d_i\\in\\{0,1,2,3,4,5,6,7,8,9\\}$ and $X=d_n\\cdot 10^n+d_{n-1}\\cdot 10^{n-1}+\\dots+d_2\\cdot 10^2+d_1\\cdot 10^1+d_0\\cdot 10^0$.\n",
        "\n",
        "> The binary representation of a positive integer $X$ is a string of digits $b_nb_{n-1}\\dots b_2b_1b_0$, where each $b_i\\in\\{0,1\\}$ and $X=b_n\\cdot 2^n+b_{n-1}\\cdot 2^{n-1}+\\dots+b_2\\cdot 2^2+b_1\\cdot 2^1+b_0\\cdot 2^0$\n",
        "\n",
        "# Deliverable #1: General Base Representation *In Math!*\n",
        "Using the next markdown cell, give a definition for the representation of a positive integer $X$ in a general base $B$. You will want to use LaTeX syntax to affect super- and sub-scripts."
      ]
    },
    {
      "cell_type": "markdown",
      "metadata": {
        "id": "pq3Pdi3vnw_U"
      },
      "source": [
        "The representation of a positive integer $X$ in a base $B$ is...\n",
        "\n",
        "> The decimal representation of a positive integer $X$ is a string of digits $d_nd_{n-1}\\dots d_2d_1d_0$, where each $d_i\\in\\{0,1,..,B - 1\\}$ and $X=d_n\\cdot B^n+d_{n-1}\\cdot B^{n-1}+\\dots+d_2\\cdot B^2+d_1\\cdot B^1+d_0\\cdot B^0$.\n",
        "\n",
        "$something_i \\in \\{1,2,3,4\\}$"
      ]
    },
    {
      "cell_type": "markdown",
      "metadata": {
        "id": "dnpDIjaBnw_V"
      },
      "source": [
        "## Computer Representations\n",
        "Computers natively represent numbers in binary. When we interact with computers, the internal representation is converted to a string of characters that are convenient for humans, be that decimal, hexadecimal, or otherwise. So, we are going to implement functions that translate to and from the internal representation and several arbitrary bases:\n",
        "\n",
        "- Binary (base 2)\n",
        "- Octal (base 8)\n",
        "- Decimal (base 10)\n",
        "- Duodecimal (base 12)$^1$\n",
        "- Hexadecimal (base 16)\n",
        "- Garblaxian (base 59)\n",
        "- Cuneiform (base 60)\n",
        "\n",
        "The next cell defines the sets of digits each of these systems employ."
      ]
    },
    {
      "cell_type": "code",
      "execution_count": null,
      "metadata": {
        "id": "EealIhXJnw_V"
      },
      "outputs": [],
      "source": [
        "base2 = 'Ol'\n",
        "base8 = 'O1234567'\n",
        "base10 = 'O123456789'\n",
        "base16 = 'O123456789ABCDEF'\n",
        "duodecimal = 'O123456789AB'\n",
        "aliens = 'ᐁᐃᐄᐅᐆᐇᐉᐊᐋᐖᐛᐯᐱᐲᐳᐴᐵᐷᐸᐹᑀᑂᑅᑇᑈᑌᑍᑎᑏᑐᑑᑒᑓᑔᑕᑖᑝᑟᑢᑤᑥᑫᑭᑮᑯᑰᑱᑲᒉᒋᒌᒍᒏᒐᒒᒕᒗᒘᒝ'\n",
        "babylonian = ['𒊹𒊹','𒊹𒑰','𒊹𒈫','𒊹𒐈','𒊹𒐉','𒊹𒐊','𒊹𒐋','𒊹𒑂','𒊹𒑄','𒊹𒑆','𒌋𒊹','𒌋𒑰','𒌋𒈫','𒌋𒐈','𒌋𒐉','𒌋𒐊','𒌋𒐋','𒌋𒑂','𒌋𒑄','𒌋𒑆','𒎙𒊹','𒎙𒑰','𒎙𒈫','𒎙𒐈','𒎙𒐉','𒎙𒐊','𒎙𒐋','𒎙𒑂','𒎙𒑄','𒎙𒑆','𒌍𒊹','𒌍𒑰','𒌍𒈫','𒌍𒐈','𒌍𒐉','𒌍𒐊','𒌍𒐋','𒌍𒑂','𒌍𒑄','𒌍𒑆','𒑩𒊹','𒑩𒑰','𒑩𒈫','𒑩𒐈','𒑩𒐉','𒑩𒐊','𒑩𒐋','𒑩𒑂','𒑩𒑄','𒑩𒑆','𒑪𒊹','𒑪𒑰','𒑪𒈫','𒑪𒐈','𒑪𒐉','𒑪𒐊','𒑪𒐋','𒑪𒑂','𒑪𒑄','𒑪𒑆']"
      ]
    },
    {
      "cell_type": "markdown",
      "metadata": {
        "id": "xYzTA4K7nw_W"
      },
      "source": [
        "Ideally, your implementation of each function will support any and all of these counting systems. However, since the representation in the Babylonian system are composed of two UTF8 characters per digit, the tests for each deliverable will not prevent you from working on the remaining deliverables in this project."
      ]
    },
    {
      "cell_type": "code",
      "execution_count": null,
      "metadata": {
        "id": "UAilNRaXnw_W"
      },
      "outputs": [],
      "source": [
        "## DO NOT MODIFY THIS FUNCTION! IT IS USED INSTEAD OF assert TO TEST YOUR CODE\n",
        "def expectEqual(a, b):\n",
        "    if a != b: print('FAIL expected:', b, ' got:', a)"
      ]
    },
    {
      "cell_type": "markdown",
      "metadata": {
        "id": "aTJ_7XMInw_W"
      },
      "source": [
        "# Deliverable #2: General String to Integer\n",
        "Implement a number parser. The function should take a string representation of a number and a base and convert the string into a Python integer. **Note: in all deliverables, hard-coded components may help you pass tests, but they will receive very few points.** For example, the character `'O'` always has the value 0, but we will not look favorably on code which says something like `if character=='O' : value = 0`. Your code should infer the value of the character `'O'` based on its *position* in the string `base2`, etc."
      ]
    },
    {
      "cell_type": "code",
      "execution_count": null,
      "metadata": {
        "id": "af-AoyxHnw_W"
      },
      "outputs": [],
      "source": [
        "def stringToInt(number, base):\n",
        "  newInt = 9999   #define newInt and give it an recognizable number for errors\n",
        "  if base == babylonian:   #if babylonian\n",
        "    IsItFirstDigit = True\n",
        "    for x in range (len(number)):\n",
        "      ##print('char in number string',number[len(number)-x-1])\n",
        "\n",
        "      for y in range (len(base)):\n",
        "        if base[y] == number[len(number)-x-1]+number[len(number)-x-2]:   #search base until the digit in the number is found, return base index y\n",
        "          if IsItFirstDigit == True:\n",
        "            #print('index',y)   #returns index from the base string\n",
        "            #print(\"len(number)/2-x\",len(number)/2-x)\n",
        "            newInt = y*(len(base)**(len(number)/2-x))\n",
        "            #print('newInt', newInt)\n",
        "            IsItFirstDigit = False\n",
        "\n",
        "          else :\n",
        "           # print('index',y)   #returns index from the base string\n",
        "           # print(\"len(number)/2-1\",len(number)/2-1)\n",
        "           # print('index',y)   #returns index from the base string\n",
        "            newDigit=y*(len(base)**(len(number)/2-(x-1)))\n",
        "            temp = str(newInt)\n",
        "            newInt = newInt + newDigit\n",
        "           # print(\"concatenation:\", newInt)\n",
        "      \n",
        "\n",
        "\n",
        "\n",
        "  else:   #if other than babylonian\n",
        "    IsItFirstDigit = True\n",
        "    for x in range (len(number)):\n",
        "    # print('char in number string',number[len(number)-x-1])\n",
        "\n",
        "      for y in range (len(base)):\n",
        "        if base[y] == number[len(number)-x-1]:   #search base until the digit in the number is found, return base index y\n",
        "          if IsItFirstDigit == True:\n",
        "            #print('index',y)   #returns index from the base string\n",
        "            #print(\"len(base)**(x))\", len(base)**(x))\n",
        "            newInt = y*(len(base)**(x))\n",
        "            #print('newInt', newInt)\n",
        "            IsItFirstDigit = False\n",
        "\n",
        "          else :\n",
        "            #print('index',y)   #returns index from the base string\n",
        "            newDigit=y*(len(base)**(x))\n",
        "            temp = str(newInt)\n",
        "            newInt = newInt + newDigit\n",
        "            #print(\"concatenate\", newInt)\n",
        "      \n",
        "  \n",
        "  \n",
        "\n",
        "  return newInt\n",
        "\n",
        "expectEqual(stringToInt('2O', base10), 20)\n",
        "expectEqual(stringToInt('31337', base10), 31337)\n",
        "expectEqual(stringToInt('lOlOO', base2), 20) #\n",
        "expectEqual(stringToInt('llllOlOOllOlOOl', base2), 31337)#\n",
        "expectEqual(stringToInt('2O', base8), 16)#\n",
        "expectEqual(stringToInt('31337', base8), 13023)#\n",
        "expectEqual(stringToInt('2O', base16), 32)#\n",
        "expectEqual(stringToInt('31337', base16), 201527)#\n",
        "expectEqual(stringToInt('ᑀ', aliens), 20)\n",
        "expectEqual(stringToInt('𒎙𒊹', babylonian), 20)\n",
        "expectEqual(stringToInt('𒊹𒈫𒊹𒐈', babylonian), 123)\n",
        "expectEqual(stringToInt('bb','ab'), 3)"
      ]
    },
    {
      "cell_type": "code",
      "source": [
        "base10.index('9')"
      ],
      "metadata": {
        "colab": {
          "base_uri": "https://localhost:8080/"
        },
        "id": "13PNb1EI8BAf",
        "outputId": "e1545b30-3c04-40b5-a567-5d023e92e036"
      },
      "execution_count": null,
      "outputs": [
        {
          "output_type": "execute_result",
          "data": {
            "text/plain": [
              "9"
            ]
          },
          "metadata": {},
          "execution_count": 3
        }
      ]
    },
    {
      "cell_type": "code",
      "source": [
        "babylonian.index('𒊹𒐈')"
      ],
      "metadata": {
        "colab": {
          "base_uri": "https://localhost:8080/"
        },
        "id": "Vn2swojb8R4C",
        "outputId": "f1fd1c00-c230-4d0c-edef-f8e20eebf425"
      },
      "execution_count": null,
      "outputs": [
        {
          "output_type": "execute_result",
          "data": {
            "text/plain": [
              "3"
            ]
          },
          "metadata": {},
          "execution_count": 4
        }
      ]
    },
    {
      "cell_type": "markdown",
      "metadata": {
        "id": "m_ImvT4_nw_X"
      },
      "source": [
        "# Deliverable #3: Integer to String representation\n",
        "\n",
        "Given an integer and a base, generate the string representation of number in given base."
      ]
    },
    {
      "cell_type": "markdown",
      "source": [
        "integer % len(base) <-- this gives value of least significant digit\n"
      ],
      "metadata": {
        "id": "rWecq-1N-XLz"
      }
    },
    {
      "cell_type": "code",
      "execution_count": null,
      "metadata": {
        "id": "BIrW2tDunw_X"
      },
      "outputs": [],
      "source": [
        "def intToString(integer, base):\n",
        "\n",
        "  lsd = integer % len(base) \n",
        "  num = integer//len(base)\n",
        "  newChar = base[lsd]\n",
        "  newString = newChar\n",
        "  while num !=0:\n",
        "  \n",
        "    newDigit = num % len(base)\n",
        "    num = num//len(base)\n",
        "    newChar = base[newDigit]\n",
        "    newString = newChar + newString\n",
        "    #print (newString)\n",
        "  #print(newString)\n",
        "  return newString\n",
        "\n",
        "expectEqual(intToString(1230,base10), '123O')\n",
        "expectEqual(intToString(31337,base10), '31337')\n",
        "expectEqual(intToString(123,base2), 'llllOll')\n",
        "expectEqual(intToString(31337,base2), 'llllOlOOllOlOOl')\n",
        "expectEqual(intToString(31337,base8), '75151')\n",
        "expectEqual(intToString(123,base8), '173')\n",
        "expectEqual(intToString(123,duodecimal), 'A3')\n",
        "expectEqual(intToString(31337,duodecimal), '16175')\n",
        "expectEqual(intToString(123,base16), '7B')\n",
        "expectEqual(intToString(31337,base16), '7A69')\n",
        "expectEqual(intToString(123,aliens), 'ᐄᐇ')\n",
        "expectEqual(intToString(123,babylonian), '𒊹𒈫𒊹𒐈')\n",
        "expectEqual(intToString(51,babylonian), '𒑪𒑰')\n",
        "expectEqual(intToString(7,'ab'),'bbb')\n"
      ]
    },
    {
      "cell_type": "code",
      "source": [],
      "metadata": {
        "id": "Y8uEN70dkPt6"
      },
      "execution_count": null,
      "outputs": []
    },
    {
      "cell_type": "markdown",
      "metadata": {
        "id": "hieJ1bOCnw_Z"
      },
      "source": [
        "## Integer Operations: Addition\n",
        "\n",
        "Sometime in elementary school, you probably learned how to perform the addition operation. You may have also learned how to add numbers with more than one decimal digit. But, let's review. Given two numbers, $a,b$ represented in decimal as $a_na_{n-1}\\dots a_2a_1a_0$ and $b_mb_{m-1}\\dots b_2b_1b_0$, respectively, then the following procedure will yield $a+b=c$ represented in decimal as $c_pc_{p-1}\\dots c_2c_1c_0$ where $p$ is the greater of $m$ and $n$:\n",
        "\n",
        "0. Let $carry=0$.\n",
        "1. Let $i=0$.\n",
        "2. If $a_i$ and $b_i$ exist, let $c_i=a_i+b_i+carry$.\n",
        "3. Otherwise:\n",
        "  3. If $a_1$ exists, let $c_i=a_i+carry$.\n",
        "  3. If $b_1$ exists, let $c_i=b_i+carry$.\n",
        "4. Let $carry=0$.\n",
        "5. If $c_i>9$, let $carry=1$ and $c_i=c_i\\text{mod}10$.\n",
        "6. Let $i=i+1$.\n",
        "7. If $a_i$ and $b_i$ exist, go to step 2.\n",
        "8. If $carry>0$, let $c_i=1$.\n",
        "\n",
        "This procedure can be generalized to work with numbers represented in any base, and part of your task is to figure out exactly how.\n",
        "\n",
        "# Deliverable #4: In-base Addition\n",
        "\n",
        "In the real world, we would just take the functions we just created above, combine them with the existing addition facilities in the computer and compute sums of numbers represented in any base.\n",
        "\n",
        "But, this isn't the real world at all. This is Discrete Structures.\n",
        "\n",
        "Implement a generic function that performs addition in-base (with carries and everything)."
      ]
    },
    {
      "cell_type": "code",
      "execution_count": null,
      "metadata": {
        "id": "F2p973Rpnw_Z",
        "colab": {
          "base_uri": "https://localhost:8080/",
          "height": 813
        },
        "outputId": "9560cf62-c81a-4377-fd2c-4061bde04d23"
      },
      "outputs": [
        {
          "output_type": "stream",
          "name": "stdout",
          "text": [
            "\n",
            "246\n",
            "\n",
            "221\n",
            "\n",
            "lll\n",
            "\n",
            "llOO\n",
            "\n",
            "246\n",
            "\n",
            "4662\n",
            "\n",
            "246\n",
            "\n",
            "246\n",
            "\n",
            "45DB\n",
            "\n",
            "ᑅᑌᑐ\n",
            "\n",
            "ᐃᑯᑱᑲ\n",
            "\n",
            "ᒒᒗᑀᑅᑇ\n",
            "\n"
          ]
        },
        {
          "output_type": "error",
          "ename": "UnboundLocalError",
          "evalue": "ignored",
          "traceback": [
            "\u001b[0;31m---------------------------------------------------------------------------\u001b[0m",
            "\u001b[0;31mUnboundLocalError\u001b[0m                         Traceback (most recent call last)",
            "\u001b[0;32m<ipython-input-23-d33623f9e39c>\u001b[0m in \u001b[0;36m<module>\u001b[0;34m\u001b[0m\n\u001b[1;32m    111\u001b[0m \u001b[0mexpectEqual\u001b[0m\u001b[0;34m(\u001b[0m\u001b[0madd\u001b[0m\u001b[0;34m(\u001b[0m\u001b[0;34m'ᒍᒏᒐ'\u001b[0m\u001b[0;34m,\u001b[0m\u001b[0;34m'ᒍᒏᒐ'\u001b[0m\u001b[0;34m,\u001b[0m\u001b[0maliens\u001b[0m\u001b[0;34m)\u001b[0m\u001b[0;34m,\u001b[0m \u001b[0;34m'ᐃᑯᑱᑲ'\u001b[0m\u001b[0;34m)\u001b[0m\u001b[0;34m\u001b[0m\u001b[0;34m\u001b[0m\u001b[0m\n\u001b[1;32m    112\u001b[0m \u001b[0mexpectEqual\u001b[0m\u001b[0;34m(\u001b[0m\u001b[0madd\u001b[0m\u001b[0;34m(\u001b[0m\u001b[0;34m'ᒒᒕᒗᒘᒝ'\u001b[0m\u001b[0;34m,\u001b[0m\u001b[0;34m'ᑅᑇᑈ'\u001b[0m\u001b[0;34m,\u001b[0m\u001b[0maliens\u001b[0m\u001b[0;34m)\u001b[0m\u001b[0;34m,\u001b[0m \u001b[0;34m'ᒒᒗᑀᑅᑇ'\u001b[0m\u001b[0;34m)\u001b[0m\u001b[0;34m\u001b[0m\u001b[0;34m\u001b[0m\u001b[0m\n\u001b[0;32m--> 113\u001b[0;31m \u001b[0mexpectEqual\u001b[0m\u001b[0;34m(\u001b[0m\u001b[0madd\u001b[0m\u001b[0;34m(\u001b[0m\u001b[0;34m'𒊹𒑰𒊹𒈫𒊹𒐈'\u001b[0m\u001b[0;34m,\u001b[0m\u001b[0;34m'𒊹𒑰𒊹𒈫𒊹𒐈'\u001b[0m\u001b[0;34m,\u001b[0m\u001b[0mbabylonian\u001b[0m\u001b[0;34m)\u001b[0m\u001b[0;34m,\u001b[0m \u001b[0;34m'𒊹𒈫𒊹𒐉𒊹𒐋'\u001b[0m\u001b[0;34m)\u001b[0m\u001b[0;34m\u001b[0m\u001b[0;34m\u001b[0m\u001b[0m\n\u001b[0m\u001b[1;32m    114\u001b[0m \u001b[0mexpectEqual\u001b[0m\u001b[0;34m(\u001b[0m\u001b[0madd\u001b[0m\u001b[0;34m(\u001b[0m\u001b[0;34m'𒑪𒑄'\u001b[0m\u001b[0;34m,\u001b[0m\u001b[0;34m'𒑪𒑆'\u001b[0m\u001b[0;34m,\u001b[0m\u001b[0mbabylonian\u001b[0m\u001b[0;34m)\u001b[0m\u001b[0;34m,\u001b[0m \u001b[0;34m'𒊹𒑰𒑪𒑂'\u001b[0m\u001b[0;34m)\u001b[0m\u001b[0;34m\u001b[0m\u001b[0;34m\u001b[0m\u001b[0m\n",
            "\u001b[0;32m<ipython-input-23-d33623f9e39c>\u001b[0m in \u001b[0;36madd\u001b[0;34m(a, b, base)\u001b[0m\n\u001b[1;32m     65\u001b[0m         \u001b[0;32mif\u001b[0m \u001b[0mIsItFirstDigit\u001b[0m \u001b[0;34m==\u001b[0m \u001b[0;32mTrue\u001b[0m\u001b[0;34m:\u001b[0m\u001b[0;34m\u001b[0m\u001b[0;34m\u001b[0m\u001b[0m\n\u001b[1;32m     66\u001b[0m             \u001b[0;32mif\u001b[0m \u001b[0;34m(\u001b[0m\u001b[0mx\u001b[0m\u001b[0;34m+\u001b[0m\u001b[0;36m1\u001b[0m\u001b[0;34m)\u001b[0m\u001b[0;34m<\u001b[0m\u001b[0mlen\u001b[0m\u001b[0;34m(\u001b[0m\u001b[0ma\u001b[0m\u001b[0;34m)\u001b[0m \u001b[0;32mand\u001b[0m \u001b[0;34m(\u001b[0m\u001b[0mx\u001b[0m\u001b[0;34m+\u001b[0m\u001b[0;36m1\u001b[0m\u001b[0;34m)\u001b[0m\u001b[0;34m<\u001b[0m\u001b[0mlen\u001b[0m\u001b[0;34m(\u001b[0m\u001b[0mb\u001b[0m\u001b[0;34m)\u001b[0m\u001b[0;34m:\u001b[0m   \u001b[0;31m#if both exist\u001b[0m\u001b[0;34m\u001b[0m\u001b[0;34m\u001b[0m\u001b[0m\n\u001b[0;32m---> 67\u001b[0;31m               \u001b[0mc\u001b[0m \u001b[0;34m=\u001b[0m \u001b[0mbaseA\u001b[0m \u001b[0;34m+\u001b[0m\u001b[0mbaseB\u001b[0m \u001b[0;34m+\u001b[0m \u001b[0;34m(\u001b[0m\u001b[0mcarry\u001b[0m\u001b[0;34m)\u001b[0m\u001b[0;34m\u001b[0m\u001b[0;34m\u001b[0m\u001b[0m\n\u001b[0m\u001b[1;32m     68\u001b[0m             \u001b[0;32melif\u001b[0m \u001b[0;34m(\u001b[0m\u001b[0mx\u001b[0m\u001b[0;34m+\u001b[0m\u001b[0;36m1\u001b[0m\u001b[0;34m)\u001b[0m\u001b[0;34m<\u001b[0m\u001b[0mlen\u001b[0m\u001b[0;34m(\u001b[0m\u001b[0ma\u001b[0m\u001b[0;34m)\u001b[0m\u001b[0;34m:\u001b[0m   \u001b[0;31m#if only a exists\u001b[0m\u001b[0;34m\u001b[0m\u001b[0;34m\u001b[0m\u001b[0m\n\u001b[1;32m     69\u001b[0m               \u001b[0mc\u001b[0m \u001b[0;34m=\u001b[0m \u001b[0mbaseA\u001b[0m  \u001b[0;34m+\u001b[0m \u001b[0;34m(\u001b[0m\u001b[0mcarry\u001b[0m\u001b[0;34m)\u001b[0m\u001b[0;34m\u001b[0m\u001b[0;34m\u001b[0m\u001b[0m\n",
            "\u001b[0;31mUnboundLocalError\u001b[0m: local variable 'baseA' referenced before assignment"
          ]
        }
      ],
      "source": [
        "def add(a,b, base):\n",
        "    print(\"\")\n",
        "    carry = 0\n",
        "    i = 0\n",
        "    IsItFirstDigit = True\n",
        "    if len(a) > len(b):\n",
        "      length = len(a)\n",
        "    else:\n",
        "      length = len(b)\n",
        "\n",
        "    if base == 'babylonian':   ##########FOR BABYLONIAN##########\n",
        "        for x in range (length):\n",
        "          for y in range (len(base)):\n",
        "            if base[y] == a[len(a)-x-1]:\n",
        "                baseA = y\n",
        "          for z in range (len(base)):\n",
        "            if base[z] == b[len(b)-x-1]:\n",
        "                baseB = z\n",
        "\n",
        "          if IsItFirstDigit == True:\n",
        "              if (x+1)<len(a) and (x+1)<len(b):   #if both exist\n",
        "                c = baseA +baseB + (carry)\n",
        "              elif (x+1)<len(a):   #if only a exists\n",
        "                c = baseA  + (carry)\n",
        "              elif (x+1)<len(b):   #if only b exists\n",
        "                c = baseB + (carry)\n",
        "              carry = 0\n",
        "              if c > (len(base) -1):   #if there is a carry\n",
        "                carry = 1\n",
        "                c = c % len(base)\n",
        "              i = i +1\n",
        "              answer = (base[c])\n",
        "              IsItFirstDigit = False\n",
        "\n",
        "\n",
        "          else:\n",
        "            if (x+1)<=len(a) and (x+1)<=len(b):   #if both exist\n",
        "              c = baseA +baseB + (carry)\n",
        "            elif (x+1)<=len(a):   #if only a exists\n",
        "              c = baseA  + (carry)\n",
        "            elif (x+1)<=len(b):   #if only b exists\n",
        "              c = baseB + (carry)\n",
        "            carry = 0\n",
        "            if c > (len(base) -1):   #if there is a carry\n",
        "              carry = 1\n",
        "              c = c % len(base)\n",
        "            i = i +1\n",
        "            answer = \"{}{}\".format(base[c], answer)\n",
        "\n",
        "        if carry > 0:   #check for last carry\n",
        "          c = 1\n",
        "          answer =  \"{}{}\".format(base[c], answer)\n",
        "        print(answer)\n",
        "    \n",
        "\n",
        "    else:   ####################FOR NOT BABYLONIAN######################\n",
        "      for x in range (length):\n",
        "        for y in range (len(base)):\n",
        "          if base[y] == a[len(a)-x-1]:\n",
        "              baseA = y\n",
        "        for z in range (len(base)):\n",
        "          if base[z] == b[len(b)-x-1]:\n",
        "              baseB = z\n",
        "\n",
        "        if IsItFirstDigit == True:\n",
        "            if (x+1)<len(a) and (x+1)<len(b):   #if both exist\n",
        "              c = baseA +baseB + (carry)\n",
        "            elif (x+1)<len(a):   #if only a exists\n",
        "              c = baseA  + (carry)\n",
        "            elif (x+1)<len(b):   #if only b exists\n",
        "              c = baseB + (carry)\n",
        "            carry = 0\n",
        "            if c > (len(base) -1):   #if there is a carry\n",
        "              carry = 1\n",
        "              c = c % len(base)\n",
        "            i = i +1\n",
        "            answer = (base[c])\n",
        "            IsItFirstDigit = False\n",
        "\n",
        "\n",
        "        else:\n",
        "          if (x+1)<=len(a) and (x+1)<=len(b):   #if both exist\n",
        "            c = baseA +baseB + (carry)\n",
        "          elif (x+1)<=len(a):   #if only a exists\n",
        "            c = baseA  + (carry)\n",
        "          elif (x+1)<=len(b):   #if only b exists\n",
        "            c = baseB + (carry)\n",
        "          carry = 0\n",
        "          if c > (len(base) -1):   #if there is a carry\n",
        "            carry = 1\n",
        "            c = c % len(base)\n",
        "          i = i +1\n",
        "          answer = \"{}{}\".format(base[c], answer)\n",
        "\n",
        "      if carry > 0:   #check for last carry\n",
        "        c = 1\n",
        "        answer =  \"{}{}\".format(base[c], answer)\n",
        "      print(answer)      \n",
        "    return answer\n",
        "\n",
        "expectEqual(add('123','123',base10), '246')\n",
        "expectEqual(add('98','123',base10), '221')\n",
        "expectEqual(add('lOl','lO',base2), 'lll')\n",
        "expectEqual(add('lOlO','lO',base2), 'llOO')\n",
        "expectEqual(add('123','123',base8), '246')\n",
        "expectEqual(add('4563','77',base8), '4662')\n",
        "expectEqual(add('123','123',duodecimal), '246')\n",
        "expectEqual(add('123','123',base16), '246')\n",
        "expectEqual(add('4563','78',base16), '45DB')\n",
        "expectEqual(add('ᐄᐇ','ᑅᑇᑈ',aliens), 'ᑅᑌᑐ')\n",
        "expectEqual(add('ᒍᒏᒐ','ᒍᒏᒐ',aliens), 'ᐃᑯᑱᑲ')\n",
        "expectEqual(add('ᒒᒕᒗᒘᒝ','ᑅᑇᑈ',aliens), 'ᒒᒗᑀᑅᑇ')\n",
        "expectEqual(add('𒊹𒑰𒊹𒈫𒊹𒐈','𒊹𒑰𒊹𒈫𒊹𒐈',babylonian), '𒊹𒈫𒊹𒐉𒊹𒐋')\n",
        "expectEqual(add('𒑪𒑄','𒑪𒑆',babylonian), '𒊹𒑰𒑪𒑂')"
      ]
    },
    {
      "cell_type": "markdown",
      "metadata": {
        "id": "WGJxOWSynw_Z"
      },
      "source": [
        "$^1$*Check out the [Wikipedia article](https://en.wikipedia.org/wiki/Duodecimal) if you happen to be in the market for a new counting system*"
      ]
    }
  ],
  "metadata": {
    "kernelspec": {
      "display_name": "Python 3",
      "language": "python",
      "name": "python3"
    },
    "language_info": {
      "codemirror_mode": {
        "name": "ipython",
        "version": 3
      },
      "file_extension": ".py",
      "mimetype": "text/x-python",
      "name": "python",
      "nbconvert_exporter": "python",
      "pygments_lexer": "ipython3",
      "version": "3.8.5"
    },
    "colab": {
      "provenance": [],
      "include_colab_link": true
    }
  },
  "nbformat": 4,
  "nbformat_minor": 0
}